{
 "cells": [
  {
   "cell_type": "code",
   "id": "initial_id",
   "metadata": {
    "collapsed": true,
    "ExecuteTime": {
     "end_time": "2024-07-01T06:58:23.104589Z",
     "start_time": "2024-07-01T06:58:17.792446Z"
    }
   },
   "source": "!pip install ydata-profiling",
   "outputs": [
    {
     "name": "stdout",
     "output_type": "stream",
     "text": [
      "\u001B[33mDEPRECATION: Loading egg at /Users/mac/anaconda3/lib/python3.11/site-packages/python_docx-1.1.2-py3.11.egg is deprecated. pip 23.3 will enforce this behaviour change. A possible replacement is to use pip for package installation..\u001B[0m\u001B[33m\r\n",
      "\u001B[0m\u001B[33mDEPRECATION: Loading egg at /Users/mac/anaconda3/lib/python3.11/site-packages/Pattern-3.6.1-py3.11.egg is deprecated. pip 23.3 will enforce this behaviour change. A possible replacement is to use pip for package installation..\u001B[0m\u001B[33m\r\n",
      "\u001B[0mRequirement already satisfied: ydata-profiling in /Users/mac/anaconda3/lib/python3.11/site-packages (4.8.3)\r\n",
      "Requirement already satisfied: scipy<1.14,>=1.4.1 in /Users/mac/anaconda3/lib/python3.11/site-packages (from ydata-profiling) (1.11.1)\r\n",
      "Requirement already satisfied: pandas!=1.4.0,<3,>1.1 in /Users/mac/anaconda3/lib/python3.11/site-packages (from ydata-profiling) (2.0.3)\r\n",
      "Requirement already satisfied: matplotlib<3.9,>=3.2 in /Users/mac/anaconda3/lib/python3.11/site-packages (from ydata-profiling) (3.7.2)\r\n",
      "Requirement already satisfied: pydantic>=2 in /Users/mac/anaconda3/lib/python3.11/site-packages (from ydata-profiling) (2.7.4)\r\n",
      "Requirement already satisfied: PyYAML<6.1,>=5.0.0 in /Users/mac/anaconda3/lib/python3.11/site-packages (from ydata-profiling) (6.0)\r\n",
      "Requirement already satisfied: jinja2<3.2,>=2.11.1 in /Users/mac/anaconda3/lib/python3.11/site-packages (from ydata-profiling) (3.1.2)\r\n",
      "Requirement already satisfied: visions[type_image_path]<0.7.7,>=0.7.5 in /Users/mac/anaconda3/lib/python3.11/site-packages (from ydata-profiling) (0.7.6)\r\n",
      "Requirement already satisfied: numpy<2,>=1.16.0 in /Users/mac/anaconda3/lib/python3.11/site-packages (from ydata-profiling) (1.24.3)\r\n",
      "Requirement already satisfied: htmlmin==0.1.12 in /Users/mac/anaconda3/lib/python3.11/site-packages (from ydata-profiling) (0.1.12)\r\n",
      "Requirement already satisfied: phik<0.13,>=0.11.1 in /Users/mac/anaconda3/lib/python3.11/site-packages (from ydata-profiling) (0.12.4)\r\n",
      "Requirement already satisfied: requests<3,>=2.24.0 in /Users/mac/anaconda3/lib/python3.11/site-packages (from ydata-profiling) (2.31.0)\r\n",
      "Requirement already satisfied: tqdm<5,>=4.48.2 in /Users/mac/anaconda3/lib/python3.11/site-packages (from ydata-profiling) (4.65.0)\r\n",
      "Requirement already satisfied: seaborn<0.14,>=0.10.1 in /Users/mac/anaconda3/lib/python3.11/site-packages (from ydata-profiling) (0.12.2)\r\n",
      "Requirement already satisfied: multimethod<2,>=1.4 in /Users/mac/anaconda3/lib/python3.11/site-packages (from ydata-profiling) (1.11.2)\r\n",
      "Requirement already satisfied: statsmodels<1,>=0.13.2 in /Users/mac/anaconda3/lib/python3.11/site-packages (from ydata-profiling) (0.14.0)\r\n",
      "Requirement already satisfied: typeguard<5,>=3 in /Users/mac/anaconda3/lib/python3.11/site-packages (from ydata-profiling) (4.3.0)\r\n",
      "Requirement already satisfied: imagehash==4.3.1 in /Users/mac/anaconda3/lib/python3.11/site-packages (from ydata-profiling) (4.3.1)\r\n",
      "Requirement already satisfied: wordcloud>=1.9.1 in /Users/mac/anaconda3/lib/python3.11/site-packages (from ydata-profiling) (1.9.3)\r\n",
      "Requirement already satisfied: dacite>=1.8 in /Users/mac/anaconda3/lib/python3.11/site-packages (from ydata-profiling) (1.8.1)\r\n",
      "Requirement already satisfied: numba<1,>=0.56.0 in /Users/mac/anaconda3/lib/python3.11/site-packages (from ydata-profiling) (0.57.1)\r\n",
      "Requirement already satisfied: PyWavelets in /Users/mac/anaconda3/lib/python3.11/site-packages (from imagehash==4.3.1->ydata-profiling) (1.4.1)\r\n",
      "Requirement already satisfied: pillow in /Users/mac/anaconda3/lib/python3.11/site-packages (from imagehash==4.3.1->ydata-profiling) (10.3.0)\r\n",
      "Requirement already satisfied: MarkupSafe>=2.0 in /Users/mac/anaconda3/lib/python3.11/site-packages (from jinja2<3.2,>=2.11.1->ydata-profiling) (2.1.1)\r\n",
      "Requirement already satisfied: contourpy>=1.0.1 in /Users/mac/anaconda3/lib/python3.11/site-packages (from matplotlib<3.9,>=3.2->ydata-profiling) (1.0.5)\r\n",
      "Requirement already satisfied: cycler>=0.10 in /Users/mac/anaconda3/lib/python3.11/site-packages (from matplotlib<3.9,>=3.2->ydata-profiling) (0.11.0)\r\n",
      "Requirement already satisfied: fonttools>=4.22.0 in /Users/mac/anaconda3/lib/python3.11/site-packages (from matplotlib<3.9,>=3.2->ydata-profiling) (4.25.0)\r\n",
      "Requirement already satisfied: kiwisolver>=1.0.1 in /Users/mac/anaconda3/lib/python3.11/site-packages (from matplotlib<3.9,>=3.2->ydata-profiling) (1.4.4)\r\n",
      "Requirement already satisfied: packaging>=20.0 in /Users/mac/anaconda3/lib/python3.11/site-packages (from matplotlib<3.9,>=3.2->ydata-profiling) (23.1)\r\n",
      "Requirement already satisfied: pyparsing<3.1,>=2.3.1 in /Users/mac/anaconda3/lib/python3.11/site-packages (from matplotlib<3.9,>=3.2->ydata-profiling) (3.0.9)\r\n",
      "Requirement already satisfied: python-dateutil>=2.7 in /Users/mac/anaconda3/lib/python3.11/site-packages (from matplotlib<3.9,>=3.2->ydata-profiling) (2.8.2)\r\n",
      "Requirement already satisfied: llvmlite<0.41,>=0.40.0dev0 in /Users/mac/anaconda3/lib/python3.11/site-packages (from numba<1,>=0.56.0->ydata-profiling) (0.40.0)\r\n",
      "Requirement already satisfied: pytz>=2020.1 in /Users/mac/anaconda3/lib/python3.11/site-packages (from pandas!=1.4.0,<3,>1.1->ydata-profiling) (2023.3.post1)\r\n",
      "Requirement already satisfied: tzdata>=2022.1 in /Users/mac/anaconda3/lib/python3.11/site-packages (from pandas!=1.4.0,<3,>1.1->ydata-profiling) (2023.3)\r\n",
      "Requirement already satisfied: joblib>=0.14.1 in /Users/mac/anaconda3/lib/python3.11/site-packages (from phik<0.13,>=0.11.1->ydata-profiling) (1.2.0)\r\n",
      "Requirement already satisfied: annotated-types>=0.4.0 in /Users/mac/anaconda3/lib/python3.11/site-packages (from pydantic>=2->ydata-profiling) (0.7.0)\r\n",
      "Requirement already satisfied: pydantic-core==2.18.4 in /Users/mac/anaconda3/lib/python3.11/site-packages (from pydantic>=2->ydata-profiling) (2.18.4)\r\n",
      "Requirement already satisfied: typing-extensions>=4.6.1 in /Users/mac/anaconda3/lib/python3.11/site-packages (from pydantic>=2->ydata-profiling) (4.12.1)\r\n",
      "Requirement already satisfied: charset-normalizer<4,>=2 in /Users/mac/anaconda3/lib/python3.11/site-packages (from requests<3,>=2.24.0->ydata-profiling) (2.0.4)\r\n",
      "Requirement already satisfied: idna<4,>=2.5 in /Users/mac/anaconda3/lib/python3.11/site-packages (from requests<3,>=2.24.0->ydata-profiling) (3.4)\r\n",
      "Requirement already satisfied: urllib3<3,>=1.21.1 in /Users/mac/anaconda3/lib/python3.11/site-packages (from requests<3,>=2.24.0->ydata-profiling) (1.26.16)\r\n",
      "Requirement already satisfied: certifi>=2017.4.17 in /Users/mac/anaconda3/lib/python3.11/site-packages (from requests<3,>=2.24.0->ydata-profiling) (2024.2.2)\r\n",
      "Requirement already satisfied: patsy>=0.5.2 in /Users/mac/anaconda3/lib/python3.11/site-packages (from statsmodels<1,>=0.13.2->ydata-profiling) (0.5.3)\r\n",
      "Requirement already satisfied: attrs>=19.3.0 in /Users/mac/anaconda3/lib/python3.11/site-packages (from visions[type_image_path]<0.7.7,>=0.7.5->ydata-profiling) (23.2.0)\r\n",
      "Requirement already satisfied: networkx>=2.4 in /Users/mac/anaconda3/lib/python3.11/site-packages (from visions[type_image_path]<0.7.7,>=0.7.5->ydata-profiling) (3.1)\r\n",
      "Requirement already satisfied: six in /Users/mac/anaconda3/lib/python3.11/site-packages (from patsy>=0.5.2->statsmodels<1,>=0.13.2->ydata-profiling) (1.16.0)\r\n",
      "\u001B[33mDEPRECATION: Loading egg at /Users/mac/anaconda3/lib/python3.11/site-packages/python_docx-1.1.2-py3.11.egg is deprecated. pip 23.3 will enforce this behaviour change. A possible replacement is to use pip for package installation..\u001B[0m\u001B[33m\r\n",
      "\u001B[0m\u001B[33mDEPRECATION: Loading egg at /Users/mac/anaconda3/lib/python3.11/site-packages/Pattern-3.6.1-py3.11.egg is deprecated. pip 23.3 will enforce this behaviour change. A possible replacement is to use pip for package installation..\u001B[0m\u001B[33m\r\n",
      "\u001B[0mRequirement already satisfied: Pillow in /Users/mac/anaconda3/lib/python3.11/site-packages (10.3.0)\r\n"
     ]
    }
   ],
   "execution_count": 12
  },
  {
   "metadata": {
    "ExecuteTime": {
     "end_time": "2024-07-01T06:58:34.354934Z",
     "start_time": "2024-07-01T06:58:34.351758Z"
    }
   },
   "cell_type": "code",
   "source": [
    "import pandas as pd\n",
    "from ydata_profiling import ProfileReport"
   ],
   "id": "2d7690ae4c6933fd",
   "outputs": [],
   "execution_count": 13
  },
  {
   "metadata": {},
   "cell_type": "markdown",
   "source": [
    "#### Project Setup and Data Collection: ✅\n",
    "\n",
    "1) Set up your Jupyter notebook ✅\n",
    "2) Scrape or pull data from online resources ✅\n",
    "3) Load the data into your notebook ✅ <br /><br />\n"
   ],
   "id": "19859446e4076584"
  },
  {
   "metadata": {
    "ExecuteTime": {
     "end_time": "2024-07-01T06:58:36.032452Z",
     "start_time": "2024-07-01T06:58:35.789770Z"
    }
   },
   "cell_type": "code",
   "source": "df = pd.read_csv('dataset.csv', index_col=0)",
   "id": "16b996176687e62f",
   "outputs": [],
   "execution_count": 14
  },
  {
   "metadata": {},
   "cell_type": "markdown",
   "source": [
    "2. Exploratory Data Analysis (EDA):\n",
    "    - 2.1 Initial data inspection (shape, info, describe)  ✅\n",
    "    - 2.2 Generate and save pandas profiling report  ✅\n",
    "    - 2.3 Visualize data distributions ('IMDB Rating', 'Budget', 'Gross Worldwide', 'Runtime')\n",
    "    - 2.4 Explore relationships between 'Gross Worldwide' and other variables\n",
    "    - 2.5 Analyze categorical data ('Directors', 'Writers', 'Stars', 'Origin Countries', 'Languages', 'Genres')\n",
    "    - 2.6 Identify potential issues (missing values, duplicates)<br /><br />\n"
   ],
   "id": "910b08bedb7905dd"
  },
  {
   "metadata": {
    "ExecuteTime": {
     "end_time": "2024-07-01T06:58:39.727902Z",
     "start_time": "2024-07-01T06:58:39.716714Z"
    }
   },
   "cell_type": "code",
   "source": [
    "# Initial data inspection (shape, info, describe)\n",
    "df.shape"
   ],
   "id": "918981084b20e881",
   "outputs": [
    {
     "data": {
      "text/plain": [
       "(46646, 13)"
      ]
     },
     "execution_count": 15,
     "metadata": {},
     "output_type": "execute_result"
    }
   ],
   "execution_count": 15
  },
  {
   "metadata": {
    "ExecuteTime": {
     "end_time": "2024-07-01T06:58:40.347966Z",
     "start_time": "2024-07-01T06:58:40.325643Z"
    }
   },
   "cell_type": "code",
   "source": "df.info()",
   "id": "58cddbfb509e261",
   "outputs": [
    {
     "name": "stdout",
     "output_type": "stream",
     "text": [
      "<class 'pandas.core.frame.DataFrame'>\n",
      "Index: 46646 entries, 0 to 46645\n",
      "Data columns (total 13 columns):\n",
      " #   Column            Non-Null Count  Dtype  \n",
      "---  ------            --------------  -----  \n",
      " 0   Movie ID          46646 non-null  object \n",
      " 1   Title             46573 non-null  object \n",
      " 2   IMDB Rating       24971 non-null  float64\n",
      " 3   Directors         43308 non-null  object \n",
      " 4   Writers           43308 non-null  object \n",
      " 5   Stars             43308 non-null  object \n",
      " 6   Storyline         42363 non-null  object \n",
      " 7   Origin Countries  44661 non-null  object \n",
      " 8   Languages         43435 non-null  object \n",
      " 9   Budget            14748 non-null  object \n",
      " 10  Gross Worldwide   17622 non-null  object \n",
      " 11  Runtime           40785 non-null  object \n",
      " 12  Genres            46572 non-null  object \n",
      "dtypes: float64(1), object(12)\n",
      "memory usage: 5.0+ MB\n"
     ]
    }
   ],
   "execution_count": 16
  },
  {
   "metadata": {
    "ExecuteTime": {
     "end_time": "2024-07-01T06:58:41.375898Z",
     "start_time": "2024-07-01T06:58:41.354936Z"
    }
   },
   "cell_type": "code",
   "source": "df.describe()",
   "id": "35b9eb00bf627922",
   "outputs": [
    {
     "data": {
      "text/plain": [
       "        IMDB Rating\n",
       "count  24971.000000\n",
       "mean       6.135405\n",
       "std        1.223421\n",
       "min        1.000000\n",
       "25%        5.400000\n",
       "50%        6.300000\n",
       "75%        7.000000\n",
       "max       10.000000"
      ],
      "text/html": [
       "<div>\n",
       "<style scoped>\n",
       "    .dataframe tbody tr th:only-of-type {\n",
       "        vertical-align: middle;\n",
       "    }\n",
       "\n",
       "    .dataframe tbody tr th {\n",
       "        vertical-align: top;\n",
       "    }\n",
       "\n",
       "    .dataframe thead th {\n",
       "        text-align: right;\n",
       "    }\n",
       "</style>\n",
       "<table border=\"1\" class=\"dataframe\">\n",
       "  <thead>\n",
       "    <tr style=\"text-align: right;\">\n",
       "      <th></th>\n",
       "      <th>IMDB Rating</th>\n",
       "    </tr>\n",
       "  </thead>\n",
       "  <tbody>\n",
       "    <tr>\n",
       "      <th>count</th>\n",
       "      <td>24971.000000</td>\n",
       "    </tr>\n",
       "    <tr>\n",
       "      <th>mean</th>\n",
       "      <td>6.135405</td>\n",
       "    </tr>\n",
       "    <tr>\n",
       "      <th>std</th>\n",
       "      <td>1.223421</td>\n",
       "    </tr>\n",
       "    <tr>\n",
       "      <th>min</th>\n",
       "      <td>1.000000</td>\n",
       "    </tr>\n",
       "    <tr>\n",
       "      <th>25%</th>\n",
       "      <td>5.400000</td>\n",
       "    </tr>\n",
       "    <tr>\n",
       "      <th>50%</th>\n",
       "      <td>6.300000</td>\n",
       "    </tr>\n",
       "    <tr>\n",
       "      <th>75%</th>\n",
       "      <td>7.000000</td>\n",
       "    </tr>\n",
       "    <tr>\n",
       "      <th>max</th>\n",
       "      <td>10.000000</td>\n",
       "    </tr>\n",
       "  </tbody>\n",
       "</table>\n",
       "</div>"
      ]
     },
     "execution_count": 17,
     "metadata": {},
     "output_type": "execute_result"
    }
   ],
   "execution_count": 17
  },
  {
   "metadata": {
    "ExecuteTime": {
     "end_time": "2024-07-01T06:58:52.786307Z",
     "start_time": "2024-07-01T06:58:43.749585Z"
    }
   },
   "cell_type": "code",
   "source": [
    "# Generate and save pandas profiling report\n",
    "profile = ProfileReport(df, title=\"Movie Report\")\n",
    "profile.to_file('movie_report.html')"
   ],
   "id": "857da10efdf8f83a",
   "outputs": [
    {
     "name": "stderr",
     "output_type": "stream",
     "text": [
      "/Users/mac/anaconda3/lib/python3.11/site-packages/ydata_profiling/profile_report.py:363: UserWarning: Try running command: 'pip install --upgrade Pillow' to avoid ValueError\n",
      "  warnings.warn(\n"
     ]
    },
    {
     "data": {
      "text/plain": [
       "Summarize dataset:   0%|          | 0/5 [00:00<?, ?it/s]"
      ],
      "application/vnd.jupyter.widget-view+json": {
       "version_major": 2,
       "version_minor": 0,
       "model_id": "eb7d27bade4742d9a3adccb7aade0e8f"
      }
     },
     "metadata": {},
     "output_type": "display_data"
    },
    {
     "data": {
      "text/plain": [
       "Generate report structure:   0%|          | 0/1 [00:00<?, ?it/s]"
      ],
      "application/vnd.jupyter.widget-view+json": {
       "version_major": 2,
       "version_minor": 0,
       "model_id": "4165c1d6771241ccbaff9e377c132e5c"
      }
     },
     "metadata": {},
     "output_type": "display_data"
    },
    {
     "data": {
      "text/plain": [
       "Render HTML:   0%|          | 0/1 [00:00<?, ?it/s]"
      ],
      "application/vnd.jupyter.widget-view+json": {
       "version_major": 2,
       "version_minor": 0,
       "model_id": "476c83fc33624220bab56a8faf1e1118"
      }
     },
     "metadata": {},
     "output_type": "display_data"
    },
    {
     "data": {
      "text/plain": [
       "Export report to file:   0%|          | 0/1 [00:00<?, ?it/s]"
      ],
      "application/vnd.jupyter.widget-view+json": {
       "version_major": 2,
       "version_minor": 0,
       "model_id": "aa965593d5ee4155b85847e1ffc5801e"
      }
     },
     "metadata": {},
     "output_type": "display_data"
    }
   ],
   "execution_count": 18
  },
  {
   "metadata": {},
   "cell_type": "markdown",
   "source": [
    "3. Data Cleaning and Preprocessing:\n",
    "    - 3.1 Handle missing values\n",
    "    - 3.2 Remove duplicates\n",
    "    - 3.3 Correct data types (ensure 'Budget' and 'Gross Worldwide', 'Runtime', etc. are numerical)\n",
    "    - 3.4 Handle outliers:\n",
    "        - 3.4.1 Detect outliers (boxplots and IQR)\n",
    "        - 3.4.2 Apply treatment methods:\n",
    "            - Quantile-based Flooring and Capping\n",
    "            - Trimming\n",
    "            - Log Transformation\n",
    "    - 3.5 Compare and discuss outcomes of outlier treatments<br /><br />\n"
   ],
   "id": "5ebe51a149850d29"
  },
  {
   "metadata": {},
   "cell_type": "code",
   "outputs": [],
   "execution_count": null,
   "source": "",
   "id": "a4094436e141119b"
  },
  {
   "metadata": {},
   "cell_type": "markdown",
   "source": [
    "4. Feature Engineering:\n",
    "    - 4.1 Encode categorical variables ('Directors', 'Writers', 'Stars', 'Origin Countries', 'Languages', 'Genres' etc)\n",
    "    - 4.2 Extract features from 'Storyline' using NLP techniques (optional)\n",
    "    - 4.3 Create new features if applicable (e.g., director/star popularity, genre combinations) (optional)\n",
    "    - 4.4 Normalize/standardize numerical features if needed<br /><br />\n"
   ],
   "id": "d062a80bd7b71d6f"
  },
  {
   "metadata": {},
   "cell_type": "code",
   "outputs": [],
   "execution_count": null,
   "source": "",
   "id": "c323cc08dc74f57d"
  },
  {
   "metadata": {},
   "cell_type": "markdown",
   "source": [
    "5. Feature Selection:\n",
    "    - 5.1 Identify most important features for predicting 'Gross Worldwide' / revenue_usd\n",
    "    - 5.2 Use correlation analysis or feature importance techniques<br /><br />\n"
   ],
   "id": "98813580bd07fccd"
  },
  {
   "metadata": {},
   "cell_type": "code",
   "outputs": [],
   "execution_count": null,
   "source": "",
   "id": "8c489d7cf5322e85"
  },
  {
   "metadata": {},
   "cell_type": "markdown",
   "source": [
    "6. Natural Language Processing (if applicable):\n",
    "    - 6.1 Text data cleaning\n",
    "    - 6.2 Tokenization\n",
    "    - 6.3 Stop word and punctuation removal\n",
    "    - 6.4 Stemming or lemmatization<br /><br />\n"
   ],
   "id": "668a48344cd9a02c"
  },
  {
   "metadata": {},
   "cell_type": "code",
   "outputs": [],
   "execution_count": null,
   "source": "",
   "id": "3af678c1d9ff0e1d"
  },
  {
   "metadata": {},
   "cell_type": "markdown",
   "source": [
    "7. Model Selection and Training:\n",
    "    - 7.1 Split data into training and testing sets\n",
    "    - 7.2 Select and train multiple regression models (e.g., Linear Regression, Random Forest, Gradient Boosting)\n",
    "    - 7.3 Perform cross-validation<br /><br />\n"
   ],
   "id": "53d1ae5c3efe4e24"
  },
  {
   "metadata": {},
   "cell_type": "code",
   "outputs": [],
   "execution_count": null,
   "source": "",
   "id": "62339763a317223c"
  },
  {
   "metadata": {},
   "cell_type": "markdown",
   "source": [
    "8. Results and Visualization (based on regression models):\n",
    "    - 8.1 Create meaningful visualizations of your findings (e.g., actual vs predicted revenues)\n",
    "    - 8.2 Interpret and explain results<br /><br />\n"
   ],
   "id": "cce03e98166b0940"
  },
  {
   "metadata": {},
   "cell_type": "code",
   "outputs": [],
   "execution_count": null,
   "source": "",
   "id": "c2e997c390910488"
  },
  {
   "metadata": {},
   "cell_type": "markdown",
   "source": [
    "9. Unsupervised Learning:\n",
    "    - 9.1 Select and apply two unsupervised learning methods\n",
    "    - 9.2 Analyze and interpret results\n",
    "    - 9.3 Compare outcomes of different methods\n",
    "    - 9.4 Create a feature from this cluster generated and put it into the regression model \n",
    "    - 9.5 Analyse the result from the new feature you engineered    <br /><br />\n"
   ],
   "id": "5b6aa12113a3538f"
  },
  {
   "metadata": {},
   "cell_type": "code",
   "outputs": [],
   "execution_count": null,
   "source": "",
   "id": "2b2d151c98c5ed4"
  },
  {
   "metadata": {},
   "cell_type": "markdown",
   "source": [
    "10. Results and Visualization (based on unsupervised learning):\n",
    "    - 10.1 Create meaningful visualizations of your findings (e.g., actual vs predicted revenues)\n",
    "    - 10.2 Interpret and explain results<br /><br />\n"
   ],
   "id": "ff24c25f23f0ac78"
  },
  {
   "metadata": {},
   "cell_type": "code",
   "outputs": [],
   "execution_count": null,
   "source": "",
   "id": "345cd90cbb113f78"
  },
  {
   "metadata": {},
   "cell_type": "markdown",
   "source": [
    "11. Conclusion and Recommendations:\n",
    "    - 11.1 Summarize key findings\n",
    "    - 11.2 Discuss the most influential factors for movie revenue\n",
    "    - 11.3 Provide actionable insights or recommendations<br /><br />"
   ],
   "id": "8bc150055ff4dfe2"
  },
  {
   "metadata": {},
   "cell_type": "code",
   "outputs": [],
   "execution_count": null,
   "source": "",
   "id": "5de82dd3f98d6303"
  }
 ],
 "metadata": {
  "kernelspec": {
   "display_name": "Python 3",
   "language": "python",
   "name": "python3"
  },
  "language_info": {
   "codemirror_mode": {
    "name": "ipython",
    "version": 2
   },
   "file_extension": ".py",
   "mimetype": "text/x-python",
   "name": "python",
   "nbconvert_exporter": "python",
   "pygments_lexer": "ipython2",
   "version": "2.7.6"
  }
 },
 "nbformat": 4,
 "nbformat_minor": 5
}
